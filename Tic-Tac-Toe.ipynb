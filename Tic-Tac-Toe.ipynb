{
 "cells": [
  {
   "cell_type": "code",
   "execution_count": 11,
   "metadata": {},
   "outputs": [],
   "source": [
    "from IPython.display import clear_output\n",
    "\n",
    "def display_board(board):\n",
    "    clear_output()\n",
    "    print(\" {} | {} | {} \".format(board[7],board[8],board[9]))\n",
    "    print(\"-\"*11)\n",
    "    print(\" {} | {} | {} \".format(board[4],board[5],board[6]))\n",
    "    print(\"-\"*11)\n",
    "    print(\" {} | {} | {} \".format(board[1],board[2],board[3]))"
   ]
  },
  {
   "cell_type": "code",
   "execution_count": 2,
   "metadata": {},
   "outputs": [],
   "source": [
    "def player_input():\n",
    "    player1=input(\"Enter player 1's symbol (X or O): \")\n",
    "    if not(player1 in (\"X\",\"O\")):\n",
    "        print(\"Please Enter a valid symbol\")\n",
    "        player_input()\n",
    "    return player1"
   ]
  },
  {
   "cell_type": "code",
   "execution_count": 3,
   "metadata": {},
   "outputs": [],
   "source": [
    "def place_marker(board, marker, position):\n",
    "    board[position]=marker"
   ]
  },
  {
   "cell_type": "code",
   "execution_count": 4,
   "metadata": {},
   "outputs": [],
   "source": [
    "def win_check(board, mark):\n",
    "    out=[]\n",
    "    for i in range(1,8,3):\n",
    "        out.append(board[i]==board[i+1]==board[i+2]==mark)\n",
    "    for i in range(1,4):\n",
    "        out.append(board[i]==board[i+3]==board[i+6]==mark)\n",
    "    out.append(board[1]==board[5]==board[9]==mark)\n",
    "    out.append(board[3]==board[5]==board[7]==mark)\n",
    "    return True in out"
   ]
  },
  {
   "cell_type": "code",
   "execution_count": 5,
   "metadata": {},
   "outputs": [],
   "source": [
    "import random\n",
    "\n",
    "def choose_first():\n",
    "    x=random.randint(1,2)\n",
    "    print(\"Player {} will go first\".format(x))\n",
    "    return x"
   ]
  },
  {
   "cell_type": "code",
   "execution_count": 6,
   "metadata": {},
   "outputs": [],
   "source": [
    "def space_check(board, position):\n",
    "    return board[position]==\" \""
   ]
  },
  {
   "cell_type": "code",
   "execution_count": 7,
   "metadata": {},
   "outputs": [],
   "source": [
    "def full_board_check(board):\n",
    "    return \" \" in set(board)"
   ]
  },
  {
   "cell_type": "code",
   "execution_count": 8,
   "metadata": {},
   "outputs": [],
   "source": [
    "def player_choice(board):\n",
    "    position=int(input(\"Enter a position on the tic tac toe board\"))\n",
    "    if position not in range(1,10):\n",
    "        print(\"Enter a valid position\")\n",
    "        player_choice(board)\n",
    "    if space_check(board,position):\n",
    "        return position\n",
    "    else:\n",
    "        print(\"Sorry! that position is pre-occupied please enter another one\")\n",
    "        return True"
   ]
  },
  {
   "cell_type": "code",
   "execution_count": 9,
   "metadata": {},
   "outputs": [],
   "source": [
    "def replay():\n",
    "    ask=input(\"Do you want to play again, 'yes' or 'no'?: \")\n",
    "    if ask not in (\"yes\",\"no\"):\n",
    "        print(\"please enter a valid answer\")\n",
    "        return 0\n",
    "    return ask=='yes'"
   ]
  },
  {
   "cell_type": "code",
   "execution_count": 12,
   "metadata": {},
   "outputs": [],
   "source": [
    "def turn(player,pla_num):\n",
    "    print(\"Player {}'s turn\".format(pla_num))\n",
    "    _=player_choice(board)\n",
    "    if _==True:\n",
    "        player_choice(board)\n",
    "    place_marker(board,player,_)\n",
    "    display_board(board)\n",
    "    if win_check(board,player):\n",
    "        print(\"Congratulations! player {} wins\".format(pla_num))\n",
    "        return True\n"
   ]
  },
  {
   "cell_type": "code",
   "execution_count": 13,
   "metadata": {},
   "outputs": [
    {
     "name": "stdout",
     "output_type": "stream",
     "text": [
      " O | X | O \n",
      "-----------\n",
      " O | X | X \n",
      "-----------\n",
      " X | O | X \n",
      "DRAW!\n",
      "Do you want to play again, 'yes' or 'no'?: no\n"
     ]
    }
   ],
   "source": [
    "global ask\n",
    "print('Welcome to Tic Tac Toe!')\n",
    "\n",
    "while True:\n",
    "    # Set the game up here\n",
    "    board=[\"#\",\" \",\" \",\" \",\" \",\" \",\" \",\" \",\" \",\" \"]\n",
    "    player1=player_input()\n",
    "    if player1==\"X\":\n",
    "        player2=\"O\"\n",
    "    elif player1==\"O\":\n",
    "        player2=\"X\"\n",
    "    x=choose_first()\n",
    "    #pass\n",
    "    display_board(board)\n",
    "    while (full_board_check(board)):\n",
    "        \n",
    "        if x==1:\n",
    "            #Player 1 Turn\n",
    "            if turn(player1,1):\n",
    "                break\n",
    "            # Player2's turn.\n",
    "            if turn(player2,2):\n",
    "                break\n",
    "        else:\n",
    "            #player 2 Turn\n",
    "            if turn(player2,2):\n",
    "                break\n",
    "            #Player 1 Turn\n",
    "            if turn(player1,1):\n",
    "                break\n",
    "    else:\n",
    "        print(\"DRAW!\")\n",
    "    \n",
    "    if not(replay()):\n",
    "        break"
   ]
  },
  {
   "cell_type": "code",
   "execution_count": null,
   "metadata": {},
   "outputs": [],
   "source": []
  }
 ],
 "metadata": {
  "kernelspec": {
   "display_name": "Python 3",
   "language": "python",
   "name": "python3"
  },
  "language_info": {
   "codemirror_mode": {
    "name": "ipython",
    "version": 3
   },
   "file_extension": ".py",
   "mimetype": "text/x-python",
   "name": "python",
   "nbconvert_exporter": "python",
   "pygments_lexer": "ipython3",
   "version": "3.6.5"
  }
 },
 "nbformat": 4,
 "nbformat_minor": 2
}
