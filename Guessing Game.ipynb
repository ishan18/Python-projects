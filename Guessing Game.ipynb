{
 "cells": [
  {
   "cell_type": "code",
   "execution_count": null,
   "metadata": {},
   "outputs": [],
   "source": [
    "from random import randint\n",
    "num=randint(1,100)\n",
    "print('It is a guessing game')\n",
    "print(\"you have to guess a number between 1 and 100\")\n",
    "print(\"As your guess will come closer to the actual number you will be notified WARMER!\")\n",
    "print(\"As your guess will goes farther to the actual number you will be notified COLDER!\")\n",
    "print(\"Good luck! Let's start the game\")\n",
    "guess=0\n",
    "guess_list=[]\n",
    "var_list=[]\n",
    "while guess!=num:\n",
    "    guess=int(input(\"Guess a number: \"))\n",
    "    guess_list.append(guess)\n",
    "    if (guess<1 or guess >100):\n",
    "        print(\"Out of Bounds! Guess a valid number\")\n",
    "    elif (guess==num):\n",
    "        print(\"Hurray! You won.\\nCongratulations\")\n",
    "        print(f'You made {len(var_list)+1} Guesses')\n",
    "    else:\n",
    "        var_list.append(abs(guess-num))\n",
    "        if len(var_list)==1:\n",
    "            if var_list[0]<=10:\n",
    "                print(\"WARM!,Try another Guess\")\n",
    "            else:\n",
    "                print(\"COLD!,Try another Guess\")\n",
    "        else:\n",
    "            if var_list[-1] < var_list[-2]:\n",
    "                print(\"WARMER!,Try another Guess\")\n",
    "            else:\n",
    "                print(\"COLDER!,Try another Guess\")\n"
   ]
  }
 ],
 "metadata": {
  "kernelspec": {
   "display_name": "Python 3",
   "language": "python",
   "name": "python3"
  },
  "language_info": {
   "codemirror_mode": {
    "name": "ipython",
    "version": 3
   },
   "file_extension": ".py",
   "mimetype": "text/x-python",
   "name": "python",
   "nbconvert_exporter": "python",
   "pygments_lexer": "ipython3",
   "version": "3.6.5"
  }
 },
 "nbformat": 4,
 "nbformat_minor": 2
}
